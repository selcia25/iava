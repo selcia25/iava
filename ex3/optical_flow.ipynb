{
 "cells": [
  {
   "cell_type": "code",
   "execution_count": 6,
   "metadata": {},
   "outputs": [],
   "source": [
    "import cv2\n",
    "import numpy as np\n",
    "\n",
    "# Load the video or capture device\n",
    "cap = cv2.VideoCapture(0)  # Or use cap = cv2.VideoCapture(0) for webcam\n",
    "\n",
    "# Read the first frame and convert it to grayscale\n",
    "ret, frame1 = cap.read()\n",
    "gray1 = cv2.cvtColor(frame1, cv2.COLOR_BGR2GRAY)\n",
    "\n",
    "# Create a window to display the results\n",
    "cv2.namedWindow('Optical Flow')\n",
    "\n",
    "# Define color mapping for optical flow visualization\n",
    "hsv = np.zeros_like(frame1)\n",
    "hsv[..., 1] = 255  # Set saturation to maximum for vibrant colors\n",
    "\n",
    "while cap.isOpened():\n",
    "    # Read the next frame\n",
    "    ret, frame2 = cap.read()\n",
    "    if not ret:\n",
    "        break\n",
    "    \n",
    "    # Convert the new frame to grayscale\n",
    "    gray2 = cv2.cvtColor(frame2, cv2.COLOR_BGR2GRAY)\n",
    "\n",
    "    # Compute dense optical flow using Farneback's method\n",
    "    # flow = cv2.calcOpticalFlowFarneback(gray1, gray2, None, 0.5, 3, 15, 3, 5, 1.2, 0)\n",
    "    flow = cv2.calcOpticalFlowFarneback(gray1, gray2, None, 0.5, 3, 15, 3, 5, 1.2, 0)\n",
    "\n",
    "    # Compute the magnitude and angle of the 2D flow vectors\n",
    "    magnitude, angle = cv2.cartToPolar(flow[..., 0], flow[..., 1])\n",
    "\n",
    "    # Map the angle to the hue of the HSV image\n",
    "    # hsv[..., 0] = angle * 180 / np.pi / 2  # Angle is scaled to [0, 180]\n",
    "    hsv[..., 0] = angle * 360 / np.pi \n",
    "    # Map the magnitude to the value of the HSV image\n",
    "    hsv[..., 2] = cv2.normalize(magnitude, None, 0, 255, cv2.NORM_MINMAX)\n",
    "\n",
    "    # Convert HSV image to RGB format for display\n",
    "    rgb_flow = cv2.cvtColor(hsv, cv2.COLOR_HSV2BGR)\n",
    "\n",
    "    # Display the optical flow\n",
    "    cv2.imshow('Optical Flow', rgb_flow)\n",
    "\n",
    "    # Update the previous frame\n",
    "    gray1 = gray2\n",
    "\n",
    "    # Press 'q' to exit the loop\n",
    "    if cv2.waitKey(1) & 0xFF == ord('q'):\n",
    "        break\n",
    "\n",
    "# Release the capture device and close windows\n",
    "cap.release()\n",
    "cv2.destroyAllWindows()\n"
   ]
  },
  {
   "cell_type": "code",
   "execution_count": null,
   "metadata": {},
   "outputs": [],
   "source": []
  }
 ],
 "metadata": {
  "kernelspec": {
   "display_name": "Python 3",
   "language": "python",
   "name": "python3"
  },
  "language_info": {
   "codemirror_mode": {
    "name": "ipython",
    "version": 3
   },
   "file_extension": ".py",
   "mimetype": "text/x-python",
   "name": "python",
   "nbconvert_exporter": "python",
   "pygments_lexer": "ipython3",
   "version": "3.11.9"
  }
 },
 "nbformat": 4,
 "nbformat_minor": 2
}
